{
  "nbformat": 4,
  "nbformat_minor": 0,
  "metadata": {
    "colab": {
      "provenance": []
    },
    "kernelspec": {
      "name": "python3",
      "display_name": "Python 3"
    },
    "language_info": {
      "name": "python"
    }
  },
  "cells": [
    {
      "cell_type": "code",
      "execution_count": null,
      "metadata": {
        "id": "gdkB0MCph5CB"
      },
      "outputs": [],
      "source": []
    },
    {
      "cell_type": "code",
      "source": [],
      "metadata": {
        "id": "ud3oychyq8Y9"
      },
      "execution_count": null,
      "outputs": []
    },
    {
      "cell_type": "code",
      "source": [
        "print('Olá, vamos escolher 3 números e descobrir a relação entre eles')\n",
        "numero1=input('Digite o primeiro número:')\n",
        "numero2=input('Digite o segundo número:')\n",
        "numero3=input('Digite o terceiro número:')\n",
        "numero1=str(numero1) #convert\n",
        "numero2=str(numero2) #convert\n",
        "numero3=str(numero3) #convert\n",
        "#if/elif\n",
        "if numero1>numero2 and numero1>numero3:\n",
        "  print('O primeiro número é o maior')\n",
        "if numero2>numero1 and numero2>numero3:\n",
        "  print('O segundo número é o maior')\n",
        "if numero3>numero1 and numero3>numero2:\n",
        "  print('O terceiro número é o maior')\n",
        "elif numero1<numero2 and numero1<numero3:\n",
        "  print('O primeiro é o menor')\n",
        "elif numero2<numero1 and numero2<numero3:\n",
        "  print('O segundo é o menor')\n",
        "elif numero3<numero1 and numero3<numero2:\n",
        "  print('O terceiro é o menor')\n",
        "elif numero1==numero2==numero3:\n",
        "  print('Os números são iguais')"
      ],
      "metadata": {
        "colab": {
          "base_uri": "https://localhost:8080/"
        },
        "id": "FxXja3PGjcz2",
        "outputId": "870bae76-4545-4f8f-bd9c-a14104f81ba3"
      },
      "execution_count": 113,
      "outputs": [
        {
          "output_type": "stream",
          "name": "stdout",
          "text": [
            "Olá, vamos escolher 3 números e descobrir a relação entre eles\n",
            "Digite o primeiro número:2\n",
            "Digite o segundo número:1\n",
            "Digite o terceiro número:2\n",
            "O segundo é o menor\n"
          ]
        }
      ]
    },
    {
      "cell_type": "code",
      "source": [],
      "metadata": {
        "id": "Bs_jHNdAqsAC"
      },
      "execution_count": null,
      "outputs": []
    }
  ]
}